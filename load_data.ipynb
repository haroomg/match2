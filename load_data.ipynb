{
 "cells": [
  {
   "cell_type": "code",
   "execution_count": 1,
   "metadata": {},
   "outputs": [],
   "source": [
    "from app.tools.db import DatabaseConnection\n",
    "from app.tools.constans import paramsl, paramsp\n",
    "from app.tools.s3 import download_file\n",
    "import ijson, json, uuid\n",
    "\n",
    "connl = DatabaseConnection(**paramsl)\n",
    "connl.connect()\n",
    "\n",
    "connp = DatabaseConnection(**paramsp)\n",
    "connp.connect()\n",
    "\n",
    "def generate_uid():\n",
    "    uid = uuid.uuid4()\n",
    "    return str(uid)"
   ]
  },
  {
   "cell_type": "code",
   "execution_count": 4,
   "metadata": {},
   "outputs": [
    {
     "name": "stdout",
     "output_type": "stream",
     "text": [
      "El archivo brands_dictionary_women.json fue descargado en la ruta:\n",
      "trash/dicts\n"
     ]
    }
   ],
   "source": [
    "s3_path = \"ajio-myntra/alternative/20240201/dev/brands_dictionary_women.json\"\n",
    "local_path = \n",
    "file_name = \"\"\n",
    "\n",
    "download_file(s3_path, local_path, file_name)"
   ]
  },
  {
   "cell_type": "code",
   "execution_count": 5,
   "metadata": {},
   "outputs": [],
   "source": [
    "query = \"SELECT id, origin_id, alternative_id, similarity FROM request_e07aaf8f_a587_42af_a0b3_0abd42a7ffc5.matchings\"\n",
    "query2 = \"SELECT products FROM request_e07aaf8f_a587_42af_a0b3_0abd42a7ffc5.{table} WHERE id = {id}\"\n",
    "query3 = 'INSERT INTO public.\"ProductsRequest\"(id, \"idRequest\", \"originProducts\", distance, \"alternativeProducts\", resource) VALUES(%s,%s,%s,%s,%s,%s)'\n",
    "\n",
    "connl.execute(query)\n",
    "result_matchings = connl.result.fetchall()\n",
    "\n",
    "for data in result_matchings:\n",
    "\n",
    "    origin_id = data[1]\n",
    "    alternative_id = data[2]\n",
    "    similarity = data[3]\n",
    "    idRequest = \"6ac49d9c-0d9d-4c81-9591-4aac9219f329\"\n",
    "\n",
    "    connl.execute(query2.format(table=\"origin\", id=origin_id))\n",
    "    product_origin = json.dumps(connl.result.fetchone()[0])\n",
    "\n",
    "    connl.execute(query2.format(table=\"alternative\", id=alternative_id))\n",
    "    product_alternative = json.dumps(connl.result.fetchone()[0])\n",
    "\n",
    "    id_ = generate_uid()\n",
    "\n",
    "    resource = json.dumps({\n",
    "        \"path_origin\": \"ajio-myntra/origin/20240131/\",\n",
    "        \"path_alternative\": [\"ajio-myntra/alternative/20240131/dev/\", \"ajio-myntra/alternative/20240202/dev/\", \"ajio-myntra/alternative/20240131/dev/\"]\n",
    "    })\n",
    "\n",
    "    params = (id_, idRequest, product_origin, similarity, product_alternative, resource)\n",
    "\n",
    "    connp.execute(query3, params)\n",
    "\n",
    "connp.commit()\n",
    "\n"
   ]
  }
 ],
 "metadata": {
  "kernelspec": {
   "display_name": ".venv",
   "language": "python",
   "name": "python3"
  },
  "language_info": {
   "codemirror_mode": {
    "name": "ipython",
    "version": 3
   },
   "file_extension": ".py",
   "mimetype": "text/x-python",
   "name": "python",
   "nbconvert_exporter": "python",
   "pygments_lexer": "ipython3",
   "version": "3.9.5"
  }
 },
 "nbformat": 4,
 "nbformat_minor": 2
}
