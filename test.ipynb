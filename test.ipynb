{
 "cells": [
  {
   "cell_type": "code",
   "execution_count": null,
   "metadata": {},
   "outputs": [],
   "source": [
    "from app.tools.db import DatabaseConnection\n",
    "from fastapi import HTTPException\n",
    "from app.tools.constans import *\n",
    "from app.match import image\n",
    "from app.tools.functions import download_images\n",
    "import itertools\n",
    "import sqlite3\n",
    "import shutil\n",
    "import json\n",
    "import os\n",
    "\n",
    "connl = DatabaseConnection(**paramsl)\n",
    "conn_origin = DatabaseConnection(**paramsl)\n",
    "conn_alternative = DatabaseConnection(**paramsl)\n",
    "\n",
    "\n",
    "# load(request_id=\"e07aaf8f-a587-42af-a0b3-0abd42a7ffc5\")"
   ]
  },
  {
   "cell_type": "code",
   "execution_count": null,
   "metadata": {},
   "outputs": [],
   "source": [
    "from app.match import match_img\n",
    "parameter = {\n",
    "    \"origin\": {\n",
    "            \"products\": {\n",
    "            \"brand\": \"2BME\"\n",
    "        }\n",
    "    },\n",
    "    \"alternative\" :{\n",
    "            \"products\": {\n",
    "            \"brand\": \"2Bme\"\n",
    "        }\n",
    "    }\n",
    "}\n",
    "\n",
    "path_s3_img_origin = \"ajio-myntra/origin/20240131/\"\n",
    "path_s3_img_alternative = \"ajio-myntra/alternative/20240202/dev/\"\n",
    "\n",
    "schema_name = \"e07aaf8f-a587-42af-a0b3-0abd42a7ffc5\"\n",
    "connl.connect()\n",
    "conn_origin.connect()\n",
    "conn_alternative.connect()\n",
    "\n",
    "match_img(schema_name, parameter, path_s3_img_origin, path_s3_img_alternative, connl, conn_origin, conn_alternative)"
   ]
  },
  {
   "cell_type": "code",
   "execution_count": null,
   "metadata": {},
   "outputs": [],
   "source": [
    "import fastdup\n",
    "\n",
    "fd = fastdup.create(work_dir=\"trash/fastdup/request_e07aaf8f_a587_42af_a0b3_0abd42a7ffc5\")\n",
    "fd.run(input_dir=\"trash/fastdup/request_e07aaf8f_a587_42af_a0b3_0abd42a7ffc5/local_path_files.txt\")"
   ]
  }
 ],
 "metadata": {
  "kernelspec": {
   "display_name": ".venv",
   "language": "python",
   "name": "python3"
  },
  "language_info": {
   "codemirror_mode": {
    "name": "ipython",
    "version": 3
   },
   "file_extension": ".py",
   "mimetype": "text/x-python",
   "name": "python",
   "nbconvert_exporter": "python",
   "pygments_lexer": "ipython3",
   "version": "3.9.5"
  },
  "orig_nbformat": 4
 },
 "nbformat": 4,
 "nbformat_minor": 2
}
