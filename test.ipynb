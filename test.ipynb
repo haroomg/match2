{
 "cells": [
  {
   "cell_type": "code",
   "execution_count": 2,
   "metadata": {},
   "outputs": [],
   "source": [
    "# from app.functions import search, create_load_data\n",
    "# from app.db import DatabaseConnection\n",
    "# from pprint import pprint as pp\n",
    "# from dotenv import load_dotenv \n",
    "# from app.request import load\n",
    "# from app.constans import *\n",
    "# import pandas as pd\n",
    "# import numpy as np\n",
    "# import ijson\n",
    "# import os\n",
    "\n",
    "# conn = DatabaseConnection(**paramsl)\n",
    "# conn.connect()\n",
    "\n",
    "# load(request_id=\"e07aaf8f-a587-42af-a0b3-0abd42a7ffc5\")"
   ]
  },
  {
   "cell_type": "code",
   "execution_count": 3,
   "metadata": {},
   "outputs": [],
   "source": [
    "# shema_name = \"request_\" + \"e07aaf8f-a587-42af-a0b3-0abd42a7ffc5\".replace(\"-\", \"_\")\n",
    "# table_name = \"alternative\"\n",
    "# path_file = \"trash/s3/request_e07aaf8f_a587_42af_a0b3_0abd42a7ffc5/alternative.json\"\n",
    "# create_load_data(shema_name, table_name, path_file, conn)"
   ]
  },
  {
   "cell_type": "code",
   "execution_count": null,
   "metadata": {},
   "outputs": [],
   "source": [
    "# input = {\n",
    "#     \"origin\":{\"gender\": \"Men\"},\n",
    "#     \"alternative\":{\"gender\": \"Men\"},\n",
    "# }\n",
    "\n",
    "# data = search(request_id=\"e07aaf8f-a587-42af-a0b3-0abd42a7ffc5\", comlumns= [\"id\", \"product_images\"], input=input[\"origin\"], table_name=\"origin\", conn=conn)\n",
    "\n",
    "\n",
    "# if data:\n",
    "#     for dt in data:\n",
    "#         print(dt)\n",
    "# else:\n",
    "#     print(\"no hay data\")"
   ]
  },
  {
   "cell_type": "code",
   "execution_count": 1,
   "metadata": {},
   "outputs": [
    {
     "name": "stderr",
     "output_type": "stream",
     "text": [
      "/home/hi4i/programin/match2/.venv/lib/python3.9/site-packages/tqdm/auto.py:21: TqdmWarning: IProgress not found. Please update jupyter and ipywidgets. See https://ipywidgets.readthedocs.io/en/stable/user_install.html\n",
      "  from .autonotebook import tqdm as notebook_tqdm\n"
     ]
    }
   ],
   "source": [
    "# from app.main import match_img\n",
    "\n",
    "# request = {\n",
    "#     \"request_id\": \"e07aaf8f-a587-42af-a0b3-0abd42a7ffc5\",\n",
    "#     input: {\n",
    "#         \"origin\":{\"gender\": \"Men\"},\n",
    "#         \"alternative\":{\"gender\": \"Men\"}\n",
    "#     },\n",
    "#     \"s3_path_img_origin\": \"ajio-myntra/origin/20240112/\",\n",
    "#     \"s3_path_img_alternative\": \"ajio-myntra/alternative/20240110/\"\n",
    "    \n",
    "# }\n",
    "\n",
    "# match_img(request)"
   ]
  }
 ],
 "metadata": {
  "kernelspec": {
   "display_name": ".venv",
   "language": "python",
   "name": "python3"
  },
  "language_info": {
   "codemirror_mode": {
    "name": "ipython",
    "version": 3
   },
   "file_extension": ".py",
   "mimetype": "text/x-python",
   "name": "python",
   "nbconvert_exporter": "python",
   "pygments_lexer": "ipython3",
   "version": "3.9.2"
  },
  "orig_nbformat": 4
 },
 "nbformat": 4,
 "nbformat_minor": 2
}
