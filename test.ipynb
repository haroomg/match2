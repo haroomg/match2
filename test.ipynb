{
 "cells": [
  {
   "cell_type": "code",
   "execution_count": 1,
   "metadata": {},
   "outputs": [
    {
     "name": "stdout",
     "output_type": "stream",
     "text": [
      "Todos los archivos acaban de ser descargados.\n",
      "El archivo trash/fastdup/request_e07aaf8f_a587_42af_a0b3_0abd42a7ffc5/path_images.txt acaba de ser midificado.\n"
     ]
    },
    {
     "data": {
      "text/plain": [
       "'trash/fastdup/request_e07aaf8f_a587_42af_a0b3_0abd42a7ffc5/local_path_files.txt'"
      ]
     },
     "execution_count": 1,
     "metadata": {},
     "output_type": "execute_result"
    }
   ],
   "source": [
    "from app.tools.functions import download_images\n",
    "\n",
    "download_images(\"trash/fastdup/request_e07aaf8f_a587_42af_a0b3_0abd42a7ffc5/path_images.txt\", \"trash/img/request_e07aaf8f_a587_42af_a0b3_0abd42a7ffc5\")"
   ]
  },
  {
   "cell_type": "code",
   "execution_count": 2,
   "metadata": {},
   "outputs": [],
   "source": [
    "import os, shutil\n",
    "for name in [\"db\", \"fastdup\", \"img\"]:\n",
    "    shutil.rmtree(f\"trash/{name}\")\n",
    "    os.mkdir(f\"trash/{name}\")"
   ]
  }
 ],
 "metadata": {
  "kernelspec": {
   "display_name": ".venv",
   "language": "python",
   "name": "python3"
  },
  "language_info": {
   "codemirror_mode": {
    "name": "ipython",
    "version": 3
   },
   "file_extension": ".py",
   "mimetype": "text/x-python",
   "name": "python",
   "nbconvert_exporter": "python",
   "pygments_lexer": "ipython3",
   "version": "3.9.5"
  },
  "orig_nbformat": 4
 },
 "nbformat": 4,
 "nbformat_minor": 2
}
