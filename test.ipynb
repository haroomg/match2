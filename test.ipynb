{
 "cells": [
  {
   "cell_type": "code",
   "execution_count": 1,
   "metadata": {},
   "outputs": [],
   "source": [
    "from app.tools.db import  DatabaseConnection\n",
    "from app.tools.constans import paramsl, paramsp\n",
    "from app.tools.s3 import validate_path, client, bucket\n",
    "from pprint import pprint as pp\n",
    "import Levenshtein as lev\n",
    "import ijson, json, os\n",
    "import pandas as pd\n",
    "import glob\n",
    "import uuid\n",
    "import re\n",
    "\n",
    "path_input = \"trash/dicts/old_matches.json\"\n",
    "conn = DatabaseConnection(connect= True, **paramsl)\n",
    "conn1 = DatabaseConnection(connect= True, **paramsl)\n",
    "conn2 = DatabaseConnection(connect= True, **paramsp)\n",
    "\n",
    "def get_path(files: str, paths: str) -> str:\n",
    "    for file in files:\n",
    "        if file != None:\n",
    "            path_files = [validate_path(os.path.join(path,file)) for path in paths]\n",
    "            if any(path_files):\n",
    "                return paths[path_files.index(True)]\n",
    "    else:\n",
    "        return None"
   ]
  },
  {
   "cell_type": "code",
   "execution_count": 3,
   "metadata": {},
   "outputs": [
    {
     "name": "stdout",
     "output_type": "stream",
     "text": [
      "No se encontraron filas en la consulta.\n",
      "No se encontraron filas en la consulta.\n"
     ]
    }
   ],
   "source": [
    "paths_s3_ajio = \"ajio-myntra/origin/20240131/\",\n",
    "\n",
    "routes = {\n",
    "    \"ajio-myntra/alternative/20240131/dev/\": \"trash/dicts/brands_dictionary_kids.json\",\n",
    "    \"ajio-myntra/alternative/20240202/dev/\": \"trash/dicts/brands_dictionary_home.json\",\n",
    "    \"ajio-myntra/alternative/20240131/dev/\": \"trash/dicts/brands_dictionary_men.json\",\n",
    "    \"ajio-myntra/alternative/20240201/dev/\": \"trash/dicts/brands_dictionary_women.json\"\n",
    "}\n",
    "\n",
    "paths_s3_myntra = {\n",
    "    \"ajio-myntra/alternative/20240131/dev/\": [],\n",
    "    \"ajio-myntra/alternative/20240202/dev/\": [],\n",
    "    \"ajio-myntra/alternative/20240201/dev/\": []\n",
    "}\n",
    "\n",
    "brands_not_matched = pd.read_json(\"trash/dicts/not_matched.json\")\n",
    "\n",
    "for i, data in brands_not_matched.iterrows():\n",
    "\n",
    "    ajio_brand = data[\"ajio_brand\"]\n",
    "    myntra_brand = data[\"myntra_brand\"]\n",
    "\n",
    "    query = \"SELECT id, products FROM request_e07aaf8f_a587_42af_a0b3_0abd42a7ffc5.{table} where products ->> 'brand' = '{brand}' limit 1\"\n",
    "\n",
    "    conn1.execute(query.format(table = \"alternative\", brand = myntra_brand))\n",
    "\n",
    "    result = conn1.result.fetchone()\n",
    "    if result is not None:\n",
    "        myntra_file_name = [name for name in result[1][\"product_images\"] if name is not None][0]\n",
    "        # Resto del código para procesar myntra_file_name y realizar las operaciones necesarias\n",
    "    else:\n",
    "        # Manejar el caso cuando no se obtiene ninguna fila de la consulta\n",
    "        print(\"No se encontraron filas en la consulta.\")\n",
    "\n",
    "    for path in paths_s3_myntra:\n",
    "\n",
    "        s3_path = os.path.join(path, myntra_file_name)\n",
    "\n",
    "        if validate_path(s3_path):\n",
    "            paths_s3_myntra[path].append(data.to_dict())\n",
    "            break\n"
   ]
  },
  {
   "cell_type": "code",
   "execution_count": 5,
   "metadata": {},
   "outputs": [],
   "source": [
    "for s3_path, local_file in routes.items():\n",
    "    brands_to_add = paths_s3_myntra[s3_path]\n",
    "\n",
    "    with open(local_file, \"r+\") as file:\n",
    "        data_dict = json.load(file)\n",
    "\n",
    "        for brand in brands_to_add:\n",
    "            data_dict.append(brand)\n",
    "\n",
    "        file.seek(0)  # Mueve el puntero al inicio del archivo\n",
    "        json.dump(data_dict, file, indent=4)\n",
    "        file.truncate()  # Trunca el contenido restante si es más corto que el nuevo contenido\n"
   ]
  },
  {
   "cell_type": "code",
   "execution_count": 2,
   "metadata": {},
   "outputs": [],
   "source": [
    "def extrac_one_fileName_from_s3(schema_name: str,  table_name: str, brand_name: str) -> str:\n",
    "\n",
    "    conn = DatabaseConnection(connect=True, **paramsl)\n",
    "    query = f\"SELECT products FROM {schema_name}.{table_name} where products ->> 'brand' = %s limit 1\"\n",
    "    conn.execute(query, (brand_name, ))\n",
    "\n",
    "    result = conn.result.fetchone()\n",
    "    exist = result != None\n",
    "\n",
    "    if exist:\n",
    "        product_image = [file_name for file_name in result[0][\"product_images\"] if file_name != None][0]\n",
    "    else:\n",
    "        product_image = None\n",
    "    \n",
    "    return product_image"
   ]
  },
  {
   "cell_type": "code",
   "execution_count": 4,
   "metadata": {},
   "outputs": [],
   "source": [
    "extrac_one_fileName_from_s3(\"request_e07aaf8f_a587_42af_a0b3_0abd42a7ffc5\", \"alternative\", \"FEETWELL SHOESSS\")"
   ]
  }
 ],
 "metadata": {
  "kernelspec": {
   "display_name": ".venv",
   "language": "python",
   "name": "python3"
  },
  "language_info": {
   "codemirror_mode": {
    "name": "ipython",
    "version": 3
   },
   "file_extension": ".py",
   "mimetype": "text/x-python",
   "name": "python",
   "nbconvert_exporter": "python",
   "pygments_lexer": "ipython3",
   "version": "3.9.5"
  },
  "orig_nbformat": 4
 },
 "nbformat": 4,
 "nbformat_minor": 2
}
