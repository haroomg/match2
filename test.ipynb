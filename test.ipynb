{
 "cells": [
  {
   "cell_type": "code",
   "execution_count": null,
   "metadata": {},
   "outputs": [],
   "source": [
    "from app.tools.functions import *\n",
    "from app.tools.constans import *\n",
    "from pprint import pprint as pp\n",
    "from app.tools.db import  *\n",
    "from app.tools.s3 import *\n",
    "import Levenshtein as lev\n",
    "from typing import Union\n",
    "from app.match import *\n",
    "import ijson, json, os\n",
    "import pandas as pd\n",
    "import glob\n",
    "import uuid\n",
    "import re\n",
    "\n",
    "conn = DatabaseConnection(**paramsl)"
   ]
  },
  {
   "cell_type": "code",
   "execution_count": null,
   "metadata": {},
   "outputs": [],
   "source": [
    "request = {\n",
    "    \"request_id\": \"e07aaf8f-a587-42af-a0b3-0abd42a7ffc5\",\n",
    "    \"input\":{\n",
    "                \"origin\" : {\"products\":{\"brand\": \"3PIN\"}},\n",
    "                \"alternative\" : {\"products\":{\"brand\": \"3PIN\"}}\n",
    "            },\n",
    "    \"s3_path_img_origin\": \"ajio-myntra/origin/20240131/\",\n",
    "    \"s3_path_img_alternative\": [\"ajio-myntra/alternative/20240131/dev/\", \"ajio-myntra/alternative/20240202/dev/\", \"ajio-myntra/alternative/20240201/dev/\"]\n",
    "}\n",
    "\n",
    "match_img(**request)"
   ]
  },
  {
   "cell_type": "code",
   "execution_count": 1,
   "metadata": {},
   "outputs": [
    {
     "name": "stdout",
     "output_type": "stream",
     "text": [
      "FastDup Software, (C) copyright 2022 Dr. Amir Alush and Dr. Danny Bickson.\n"
     ]
    },
    {
     "name": "stderr",
     "output_type": "stream",
     "text": [
      "Traceback (most recent call last):\n",
      "  File \"c:\\Users\\Administrator\\Desktop\\match2\\.venv\\lib\\site-packages\\fastdup\\sentry.py\", line 132, in inner_function\n",
      "    ret = func(*args, **kwargs)\n",
      "  File \"c:\\Users\\Administrator\\Desktop\\match2\\.venv\\lib\\site-packages\\fastdup\\fastdup_controller.py\", line 579, in run\n",
      "    raise RuntimeError('Fastdup execution failed')\n",
      "RuntimeError: Fastdup execution failed\n"
     ]
    },
    {
     "ename": "RuntimeError",
     "evalue": "Fastdup execution failed",
     "output_type": "error",
     "traceback": [
      "\u001b[1;31m---------------------------------------------------------------------------\u001b[0m",
      "\u001b[1;31mRuntimeError\u001b[0m                              Traceback (most recent call last)",
      "Cell \u001b[1;32mIn[1], line 4\u001b[0m\n\u001b[0;32m      1\u001b[0m \u001b[38;5;28;01mimport\u001b[39;00m \u001b[38;5;21;01mfastdup\u001b[39;00m\n\u001b[0;32m      3\u001b[0m fd \u001b[38;5;241m=\u001b[39m fastdup\u001b[38;5;241m.\u001b[39mcreate(work_dir\u001b[38;5;241m=\u001b[39m\u001b[38;5;124m\"\u001b[39m\u001b[38;5;124mtrash/6555e3c4-5eef-40d7-b7dc-f4eb3b5a3698/fastdup/\u001b[39m\u001b[38;5;124m\"\u001b[39m, input_dir\u001b[38;5;241m=\u001b[39m\u001b[38;5;124m\"\u001b[39m\u001b[38;5;124mtrash/6555e3c4-5eef-40d7-b7dc-f4eb3b5a3698/img\u001b[39m\u001b[38;5;124m\"\u001b[39m, )\n\u001b[1;32m----> 4\u001b[0m \u001b[43mfd\u001b[49m\u001b[38;5;241;43m.\u001b[39;49m\u001b[43mrun\u001b[49m\u001b[43m(\u001b[49m\u001b[43moverwrite\u001b[49m\u001b[38;5;241;43m=\u001b[39;49m\u001b[38;5;28;43;01mTrue\u001b[39;49;00m\u001b[43m)\u001b[49m\n",
      "File \u001b[1;32mc:\\Users\\Administrator\\Desktop\\match2\\.venv\\lib\\site-packages\\fastdup\\engine.py:157\u001b[0m, in \u001b[0;36mFastdup.run\u001b[1;34m(self, input_dir, annotations, embeddings, subset, data_type, overwrite, model_path, distance, nearest_neighbors_k, threshold, outlier_percentile, num_threads, num_images, verbose, license, high_accuracy, cc_threshold, **kwargs)\u001b[0m\n\u001b[0;32m    154\u001b[0m     fastdup_func_params[\u001b[38;5;124m'\u001b[39m\u001b[38;5;124mmodel_path\u001b[39m\u001b[38;5;124m'\u001b[39m] \u001b[38;5;241m=\u001b[39m model_path\n\u001b[0;32m    155\u001b[0m fastdup_func_params\u001b[38;5;241m.\u001b[39mupdate(kwargs)\n\u001b[1;32m--> 157\u001b[0m \u001b[38;5;28;01mreturn\u001b[39;00m \u001b[38;5;28msuper\u001b[39m()\u001b[38;5;241m.\u001b[39mrun(annotations\u001b[38;5;241m=\u001b[39mannotations, input_dir\u001b[38;5;241m=\u001b[39minput_dir, subset\u001b[38;5;241m=\u001b[39msubset, data_type\u001b[38;5;241m=\u001b[39mdata_type,\n\u001b[0;32m    158\u001b[0m             overwrite\u001b[38;5;241m=\u001b[39moverwrite, embeddings\u001b[38;5;241m=\u001b[39membeddings, \u001b[38;5;241m*\u001b[39m\u001b[38;5;241m*\u001b[39mfastdup_func_params)\n",
      "File \u001b[1;32mc:\\Users\\Administrator\\Desktop\\match2\\.venv\\lib\\site-packages\\fastdup\\sentry.py:138\u001b[0m, in \u001b[0;36mv1_sentry_handler.<locals>.inner_function\u001b[1;34m(*args, **kwargs)\u001b[0m\n\u001b[0;32m    136\u001b[0m \u001b[38;5;28;01mexcept\u001b[39;00m \u001b[38;5;167;01mException\u001b[39;00m \u001b[38;5;28;01mas\u001b[39;00m ex:\n\u001b[0;32m    137\u001b[0m     fastdup_capture_exception(\u001b[38;5;124mf\u001b[39m\u001b[38;5;124m\"\u001b[39m\u001b[38;5;124mV1:\u001b[39m\u001b[38;5;132;01m{\u001b[39;00mfunc\u001b[38;5;241m.\u001b[39m\u001b[38;5;18m__name__\u001b[39m\u001b[38;5;132;01m}\u001b[39;00m\u001b[38;5;124m\"\u001b[39m, ex)\n\u001b[1;32m--> 138\u001b[0m     \u001b[38;5;28;01mraise\u001b[39;00m ex\n",
      "File \u001b[1;32mc:\\Users\\Administrator\\Desktop\\match2\\.venv\\lib\\site-packages\\fastdup\\sentry.py:132\u001b[0m, in \u001b[0;36mv1_sentry_handler.<locals>.inner_function\u001b[1;34m(*args, **kwargs)\u001b[0m\n\u001b[0;32m    130\u001b[0m \u001b[38;5;28;01mtry\u001b[39;00m:\n\u001b[0;32m    131\u001b[0m     start_time \u001b[38;5;241m=\u001b[39m time\u001b[38;5;241m.\u001b[39mtime()\n\u001b[1;32m--> 132\u001b[0m     ret \u001b[38;5;241m=\u001b[39m func(\u001b[38;5;241m*\u001b[39margs, \u001b[38;5;241m*\u001b[39m\u001b[38;5;241m*\u001b[39mkwargs)\n\u001b[0;32m    133\u001b[0m     fastdup_performance_capture(\u001b[38;5;124mf\u001b[39m\u001b[38;5;124m\"\u001b[39m\u001b[38;5;124mV1:\u001b[39m\u001b[38;5;132;01m{\u001b[39;00mfunc\u001b[38;5;241m.\u001b[39m\u001b[38;5;18m__name__\u001b[39m\u001b[38;5;132;01m}\u001b[39;00m\u001b[38;5;124m\"\u001b[39m, start_time)\n\u001b[0;32m    134\u001b[0m     \u001b[38;5;28;01mreturn\u001b[39;00m ret\n",
      "File \u001b[1;32mc:\\Users\\Administrator\\Desktop\\match2\\.venv\\lib\\site-packages\\fastdup\\fastdup_controller.py:579\u001b[0m, in \u001b[0;36mFastdupController.run\u001b[1;34m(self, input_dir, annotations, subset, embeddings, data_type, overwrite, print_summary, print_vl_datasets_ref, **fastdup_kwargs)\u001b[0m\n\u001b[0;32m    577\u001b[0m \u001b[38;5;66;03m# run fastdup - create embeddings\u001b[39;00m\n\u001b[0;32m    578\u001b[0m \u001b[38;5;28;01mif\u001b[39;00m fastdup\u001b[38;5;241m.\u001b[39mrun(\u001b[38;5;28mself\u001b[39m\u001b[38;5;241m.\u001b[39m_set_fastdup_input(), work_dir\u001b[38;5;241m=\u001b[39m\u001b[38;5;28mstr\u001b[39m(\u001b[38;5;28mself\u001b[39m\u001b[38;5;241m.\u001b[39m_work_dir), \u001b[38;5;241m*\u001b[39m\u001b[38;5;241m*\u001b[39mfastdup_kwargs) \u001b[38;5;241m!=\u001b[39m \u001b[38;5;241m0\u001b[39m:\n\u001b[1;32m--> 579\u001b[0m     \u001b[38;5;28;01mraise\u001b[39;00m \u001b[38;5;167;01mRuntimeError\u001b[39;00m(\u001b[38;5;124m'\u001b[39m\u001b[38;5;124mFastdup execution failed\u001b[39m\u001b[38;5;124m'\u001b[39m)\n\u001b[0;32m    581\u001b[0m \u001b[38;5;66;03m#fastdup_convert_to_relpath(self._work_dir, self._filename_prefix)\u001b[39;00m\n\u001b[0;32m    582\u001b[0m \n\u001b[0;32m    583\u001b[0m \u001b[38;5;66;03m# post process - map fastdup-id to image (for bbox this is done in self._set_fastdup_input)\u001b[39;00m\n\u001b[0;32m    584\u001b[0m \u001b[38;5;28;01mif\u001b[39;00m \u001b[38;5;28mself\u001b[39m\u001b[38;5;241m.\u001b[39m_dtype \u001b[38;5;241m==\u001b[39m FD\u001b[38;5;241m.\u001b[39mIMG \u001b[38;5;129;01mor\u001b[39;00m \u001b[38;5;28mself\u001b[39m\u001b[38;5;241m.\u001b[39m_run_mode \u001b[38;5;241m==\u001b[39m FD\u001b[38;5;241m.\u001b[39mMODE_CROP:\n",
      "\u001b[1;31mRuntimeError\u001b[0m: Fastdup execution failed"
     ]
    }
   ],
   "source": [
    "import fastdup\n",
    "\n",
    "fd = fastdup.create(work_dir=\"trash/6555e3c4-5eef-40d7-b7dc-f4eb3b5a3698/fastdup/\", input_dir=\"trash/6555e3c4-5eef-40d7-b7dc-f4eb3b5a3698/img\", )\n",
    "fd.run(inp ,overwrite=True)"
   ]
  }
 ],
 "metadata": {
  "kernelspec": {
   "display_name": ".venv",
   "language": "python",
   "name": "python3"
  },
  "language_info": {
   "codemirror_mode": {
    "name": "ipython",
    "version": 3
   },
   "file_extension": ".py",
   "mimetype": "text/x-python",
   "name": "python",
   "nbconvert_exporter": "python",
   "pygments_lexer": "ipython3",
   "version": "3.9.5"
  },
  "orig_nbformat": 4
 },
 "nbformat": 4,
 "nbformat_minor": 2
}
