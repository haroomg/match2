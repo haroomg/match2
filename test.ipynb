{
 "cells": [
  {
   "cell_type": "code",
   "execution_count": null,
   "metadata": {},
   "outputs": [],
   "source": [
    "from app.db import DatabaseConnection\n",
    "from app.functions import search\n",
    "from pprint import pprint as pp\n",
    "from dotenv import load_dotenv \n",
    "from app.request import load\n",
    "from app.constans import *\n",
    "import pandas as pd\n",
    "import numpy as np\n",
    "import ijson\n",
    "import os\n",
    "\n",
    "\n",
    "conn = DatabaseConnection(**paramsl)\n",
    "conn.connect()\n",
    "\n",
    "# load(request_id=\"e07aaf8f-a587-42af-a0b3-0abd42a7ffc5\")"
   ]
  },
  {
   "cell_type": "code",
   "execution_count": null,
   "metadata": {},
   "outputs": [],
   "source": [
    "input = {\n",
    "    \"origin\":{\"category\": \"Footwear\"},\n",
    "    \"alternative\":{\"sku\":\"100:1000\"},\n",
    "}\n",
    "data = search(request_id=\"e07aaf8f-a587-42af-a0b3-0abd42a7ffc5\", input=input[\"origin\"], table_name=\"origin\", conn=conn)\n",
    "print(data)\n",
    "if data:\n",
    "    for dt in data:\n",
    "        print(dt)\n",
    "else:\n",
    "    print(\"no hay data\")"
   ]
  },
  {
   "cell_type": "code",
   "execution_count": null,
   "metadata": {},
   "outputs": [],
   "source": [
    "# de esta forma podemos descargar las imagenes mas rapido\n",
    "import boto3\n",
    "import concurrent.futures\n",
    "\n",
    "def download_file(bucket_name, file_name, output_directory):\n",
    "    s3 = boto3.client('s3')\n",
    "    output_path = output_directory + '/' + file_name\n",
    "    s3.download_file(bucket_name, file_name, output_path)\n",
    "    print(f\"Archivo descargado: {file_name}\")\n",
    "\n",
    "def download_files_from_s3(bucket_name, directory, output_directory):\n",
    "    s3 = boto3.client('s3')\n",
    "    response = s3.list_objects_v2(Bucket=bucket_name, Prefix=directory)\n",
    "    objects = response['Contents']\n",
    "    \n",
    "    with concurrent.futures.ThreadPoolExecutor() as executor:\n",
    "        futures = []\n",
    "        for obj in objects:\n",
    "            file_name = obj['Key']\n",
    "            if file_name.endswith('/'):\n",
    "                continue  # Ignorar directorios\n",
    "            futures.append(executor.submit(download_file, bucket_name, file_name, output_directory))\n",
    "        \n",
    "        # Esperar a que se completen todas las descargas\n",
    "        concurrent.futures.wait(futures)\n",
    "\n",
    "# Ejemplo de uso\n",
    "bucket_name = 'hydrahi4ai'\n",
    "directory = 'directorio_dentro_del_bucket'\n",
    "output_directory = '/ruta/directorio_salida'\n",
    "\n",
    "download_files_from_s3(bucket_name, directory, output_directory)"
   ]
  }
 ],
 "metadata": {
  "kernelspec": {
   "display_name": ".venv",
   "language": "python",
   "name": "python3"
  },
  "language_info": {
   "codemirror_mode": {
    "name": "ipython",
    "version": 3
   },
   "file_extension": ".py",
   "mimetype": "text/x-python",
   "name": "python",
   "nbconvert_exporter": "python",
   "pygments_lexer": "ipython3",
   "version": "3.9.2"
  },
  "orig_nbformat": 4
 },
 "nbformat": 4,
 "nbformat_minor": 2
}
