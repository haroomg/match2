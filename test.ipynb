{
 "cells": [
  {
   "cell_type": "code",
   "execution_count": 1,
   "metadata": {},
   "outputs": [],
   "source": [
    "from app.db import DatabaseConnection\n",
    "from app.functions import search\n",
    "from pprint import pprint as pp\n",
    "from dotenv import load_dotenv \n",
    "from app.request import load\n",
    "import pandas as pd\n",
    "import numpy as np\n",
    "import ijson\n",
    "import os\n",
    "\n",
    "params = {\n",
    "    \"host\": os.environ.get(\"POSTGRES_HOST\") ,\n",
    "    \"database\": os.environ.get(\"POSTGRES_DB\") ,\n",
    "    \"user\": os.environ.get(\"POSTGRES_DB\") ,\n",
    "    \"password\": os.environ.get(\"POSTGRES_PASSWORD\") ,\n",
    "    \"port\": os.environ.get(\"POSTGRES_PORT\") \n",
    "}\n",
    "\n",
    "conn = DatabaseConnection(**params)\n",
    "conn.connect()\n",
    "\n",
    "# load(request_id=\"e07aaf8f-a587-42af-a0b3-0abd42a7ffc5\")"
   ]
  },
  {
   "cell_type": "code",
   "execution_count": 2,
   "metadata": {},
   "outputs": [
    {
     "name": "stdout",
     "output_type": "stream",
     "text": [
      "None\n"
     ]
    },
    {
     "ename": "HTTPException",
     "evalue": "402: Payment Required",
     "output_type": "error",
     "traceback": [
      "\u001b[0;31m---------------------------------------------------------------------------\u001b[0m",
      "\u001b[0;31mHTTPException\u001b[0m                             Traceback (most recent call last)",
      "Cell \u001b[0;32mIn[2], line 5\u001b[0m\n\u001b[1;32m      1\u001b[0m \u001b[39minput\u001b[39m \u001b[39m=\u001b[39m {\n\u001b[1;32m      2\u001b[0m     \u001b[39m\"\u001b[39m\u001b[39morigin\u001b[39m\u001b[39m\"\u001b[39m:{\u001b[39m\"\u001b[39m\u001b[39msku\u001b[39m\u001b[39m\"\u001b[39m:[\u001b[39m123.5\u001b[39m]},\n\u001b[1;32m      3\u001b[0m     \u001b[39m\"\u001b[39m\u001b[39malternative\u001b[39m\u001b[39m\"\u001b[39m:{\u001b[39m\"\u001b[39m\u001b[39msku\u001b[39m\u001b[39m\"\u001b[39m:[\u001b[39m5656.56\u001b[39m]},\n\u001b[1;32m      4\u001b[0m }\n\u001b[0;32m----> 5\u001b[0m data \u001b[39m=\u001b[39m search(\u001b[39minput\u001b[39;49m[\u001b[39m\"\u001b[39;49m\u001b[39morigin\u001b[39;49m\u001b[39m\"\u001b[39;49m], \u001b[39m\"\u001b[39;49m\u001b[39morigin\u001b[39;49m\u001b[39m\"\u001b[39;49m, \u001b[39m\"\u001b[39;49m\u001b[39me07aaf8f-a587-42af-a0b3-0abd42a7ffc5\u001b[39;49m\u001b[39m\"\u001b[39;49m, conn)\n\u001b[1;32m      7\u001b[0m pp(data)\n",
      "File \u001b[0;32m~/programin/match2/app/functions.py:202\u001b[0m, in \u001b[0;36msearch\u001b[0;34m(input, table_name, request_id, conn)\u001b[0m\n\u001b[1;32m    200\u001b[0m \u001b[39mif\u001b[39;00m \u001b[39mnot\u001b[39;00m is_ok:\n\u001b[1;32m    201\u001b[0m     \u001b[39mprint\u001b[39m(msm)\n\u001b[0;32m--> 202\u001b[0m     \u001b[39mraise\u001b[39;00m HTTPException(status_code\u001b[39m=\u001b[39m\u001b[39m402\u001b[39m, detail\u001b[39m=\u001b[39mmsm)\n\u001b[1;32m    204\u001b[0m \u001b[39m# validamos que el tipo de valor de busqueda sea correcto\u001b[39;00m\n\u001b[1;32m    205\u001b[0m is_ok, msm \u001b[39m=\u001b[39m is_valid(table_name, data_table_origin)\n",
      "\u001b[0;31mHTTPException\u001b[0m: 402: Payment Required"
     ]
    }
   ],
   "source": [
    "input = {\n",
    "    \"origin\":{\"sku\":[123.5]},\n",
    "    \"alternative\":{\"sku\":[5656.56]},\n",
    "}\n",
    "data = search(input[\"origin\"], \"origin\", \"e07aaf8f-a587-42af-a0b3-0abd42a7ffc5\", conn)\n",
    "\n",
    "pp(data)"
   ]
  },
  {
   "cell_type": "code",
   "execution_count": null,
   "metadata": {},
   "outputs": [
    {
     "ename": "KeyError",
     "evalue": "'Contents'",
     "output_type": "error",
     "traceback": [
      "\u001b[0;31m---------------------------------------------------------------------------\u001b[0m",
      "\u001b[0;31mKeyError\u001b[0m                                  Traceback (most recent call last)",
      "Cell \u001b[0;32mIn[5], line 32\u001b[0m\n\u001b[1;32m     29\u001b[0m directory \u001b[39m=\u001b[39m \u001b[39m'\u001b[39m\u001b[39mdirectorio_dentro_del_bucket\u001b[39m\u001b[39m'\u001b[39m\n\u001b[1;32m     30\u001b[0m output_directory \u001b[39m=\u001b[39m \u001b[39m'\u001b[39m\u001b[39m/ruta/directorio_salida\u001b[39m\u001b[39m'\u001b[39m\n\u001b[0;32m---> 32\u001b[0m download_files_from_s3(bucket_name, directory, output_directory)\n",
      "Cell \u001b[0;32mIn[5], line 14\u001b[0m, in \u001b[0;36mdownload_files_from_s3\u001b[0;34m(bucket_name, directory, output_directory)\u001b[0m\n\u001b[1;32m     12\u001b[0m s3 \u001b[39m=\u001b[39m boto3\u001b[39m.\u001b[39mclient(\u001b[39m'\u001b[39m\u001b[39ms3\u001b[39m\u001b[39m'\u001b[39m)\n\u001b[1;32m     13\u001b[0m response \u001b[39m=\u001b[39m s3\u001b[39m.\u001b[39mlist_objects_v2(Bucket\u001b[39m=\u001b[39mbucket_name, Prefix\u001b[39m=\u001b[39mdirectory)\n\u001b[0;32m---> 14\u001b[0m objects \u001b[39m=\u001b[39m response[\u001b[39m'\u001b[39;49m\u001b[39mContents\u001b[39;49m\u001b[39m'\u001b[39;49m]\n\u001b[1;32m     16\u001b[0m \u001b[39mwith\u001b[39;00m concurrent\u001b[39m.\u001b[39mfutures\u001b[39m.\u001b[39mThreadPoolExecutor() \u001b[39mas\u001b[39;00m executor:\n\u001b[1;32m     17\u001b[0m     futures \u001b[39m=\u001b[39m []\n",
      "\u001b[0;31mKeyError\u001b[0m: 'Contents'"
     ]
    }
   ],
   "source": [
    "# de esta forma podemos descargar las imagenes mas rapido\n",
    "import boto3\n",
    "import concurrent.futures\n",
    "\n",
    "def download_file(bucket_name, file_name, output_directory):\n",
    "    s3 = boto3.client('s3')\n",
    "    output_path = output_directory + '/' + file_name\n",
    "    s3.download_file(bucket_name, file_name, output_path)\n",
    "    print(f\"Archivo descargado: {file_name}\")\n",
    "\n",
    "def download_files_from_s3(bucket_name, directory, output_directory):\n",
    "    s3 = boto3.client('s3')\n",
    "    response = s3.list_objects_v2(Bucket=bucket_name, Prefix=directory)\n",
    "    objects = response['Contents']\n",
    "    \n",
    "    with concurrent.futures.ThreadPoolExecutor() as executor:\n",
    "        futures = []\n",
    "        for obj in objects:\n",
    "            file_name = obj['Key']\n",
    "            if file_name.endswith('/'):\n",
    "                continue  # Ignorar directorios\n",
    "            futures.append(executor.submit(download_file, bucket_name, file_name, output_directory))\n",
    "        \n",
    "        # Esperar a que se completen todas las descargas\n",
    "        concurrent.futures.wait(futures)\n",
    "\n",
    "# Ejemplo de uso\n",
    "bucket_name = 'hydrahi4ai'\n",
    "directory = 'directorio_dentro_del_bucket'\n",
    "output_directory = '/ruta/directorio_salida'\n",
    "\n",
    "download_files_from_s3(bucket_name, directory, output_directory)"
   ]
  }
 ],
 "metadata": {
  "kernelspec": {
   "display_name": ".venv",
   "language": "python",
   "name": "python3"
  },
  "language_info": {
   "codemirror_mode": {
    "name": "ipython",
    "version": 3
   },
   "file_extension": ".py",
   "mimetype": "text/x-python",
   "name": "python",
   "nbconvert_exporter": "python",
   "pygments_lexer": "ipython3",
   "version": "3.9.2"
  },
  "orig_nbformat": 4
 },
 "nbformat": 4,
 "nbformat_minor": 2
}
