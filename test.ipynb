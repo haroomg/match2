{
 "cells": [
  {
   "cell_type": "code",
   "execution_count": 1,
   "metadata": {},
   "outputs": [],
   "source": [
    "from app.db import DatabaseConnection\n",
    "from app.request import load\n",
    "from dotenv import load_dotenv \n",
    "import pandas as pd\n",
    "import numpy as np\n",
    "import ijson\n",
    "import os\n",
    "\n",
    "params = {\n",
    "    \"host\": os.environ.get(\"POSTGRES_HOST\") ,\n",
    "    \"database\": os.environ.get(\"POSTGRES_DB\") ,\n",
    "    \"user\": os.environ.get(\"POSTGRES_DB\") ,\n",
    "    \"password\": os.environ.get(\"POSTGRES_PASSWORD\") ,\n",
    "    \"port\": os.environ.get(\"POSTGRES_PORT\") \n",
    "}\n",
    "\n",
    "conn = DatabaseConnection(**params)\n",
    "# conn.connect()"
   ]
  },
  {
   "cell_type": "code",
   "execution_count": 2,
   "metadata": {},
   "outputs": [
    {
     "ename": "HTTPException",
     "evalue": "402: El e07aaf8f-a587-42af-a0b3-0abd42a7ffc5 ya esta registrado como request_e07aaf8f_a587_42af_a0b3_0abd42a7ffc5.",
     "output_type": "error",
     "traceback": [
      "\u001b[0;31m---------------------------------------------------------------------------\u001b[0m",
      "\u001b[0;31mHTTPException\u001b[0m                             Traceback (most recent call last)",
      "Cell \u001b[0;32mIn[2], line 1\u001b[0m\n\u001b[0;32m----> 1\u001b[0m load(request_id\u001b[39m=\u001b[39;49m\u001b[39m\"\u001b[39;49m\u001b[39me07aaf8f-a587-42af-a0b3-0abd42a7ffc5\u001b[39;49m\u001b[39m\"\u001b[39;49m)\n",
      "File \u001b[0;32m~/programin/match2/app/request.py:49\u001b[0m, in \u001b[0;36mload\u001b[0;34m(request_id)\u001b[0m\n\u001b[1;32m     47\u001b[0m     \u001b[39melse\u001b[39;00m:\n\u001b[1;32m     48\u001b[0m         connp\u001b[39m.\u001b[39mclose()\n\u001b[0;32m---> 49\u001b[0m         \u001b[39mraise\u001b[39;00m HTTPException(status_code\u001b[39m=\u001b[39m\u001b[39m402\u001b[39m, detail\u001b[39m=\u001b[39m\u001b[39mf\u001b[39m\u001b[39m\"\u001b[39m\u001b[39mEl \u001b[39m\u001b[39m{\u001b[39;00mrequest_id\u001b[39m}\u001b[39;00m\u001b[39m ya esta registrado como \u001b[39m\u001b[39m{\u001b[39;00mrequest_table\u001b[39m}\u001b[39;00m\u001b[39m.\u001b[39m\u001b[39m\"\u001b[39m)\n\u001b[1;32m     51\u001b[0m \u001b[39melse\u001b[39;00m:\n\u001b[1;32m     52\u001b[0m     connp\u001b[39m.\u001b[39mclose()\n",
      "\u001b[0;31mHTTPException\u001b[0m: 402: El e07aaf8f-a587-42af-a0b3-0abd42a7ffc5 ya esta registrado como request_e07aaf8f_a587_42af_a0b3_0abd42a7ffc5."
     ]
    }
   ],
   "source": [
    "load(request_id=\"e07aaf8f-a587-42af-a0b3-0abd42a7ffc5\")"
   ]
  }
 ],
 "metadata": {
  "kernelspec": {
   "display_name": ".venv",
   "language": "python",
   "name": "python3"
  },
  "language_info": {
   "codemirror_mode": {
    "name": "ipython",
    "version": 3
   },
   "file_extension": ".py",
   "mimetype": "text/x-python",
   "name": "python",
   "nbconvert_exporter": "python",
   "pygments_lexer": "ipython3",
   "version": "3.9.2"
  },
  "orig_nbformat": 4
 },
 "nbformat": 4,
 "nbformat_minor": 2
}
