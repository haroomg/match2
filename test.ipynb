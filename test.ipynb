{
 "cells": [
  {
   "cell_type": "code",
   "execution_count": 1,
   "metadata": {},
   "outputs": [
    {
     "name": "stderr",
     "output_type": "stream",
     "text": [
      "c:\\Users\\Administrator\\Desktop\\match2\\.venv\\lib\\site-packages\\tqdm\\auto.py:21: TqdmWarning: IProgress not found. Please update jupyter and ipywidgets. See https://ipywidgets.readthedocs.io/en/stable/user_install.html\n",
      "  from .autonotebook import tqdm as notebook_tqdm\n"
     ]
    }
   ],
   "source": [
    "from app.tools.s3 import validate_path, client, bucket\n",
    "from app.tools.db import  DatabaseConnection\n",
    "from app.tools.constans import paramsl, paramsp\n",
    "from app.match import match_img\n",
    "from pprint import pprint as pp\n",
    "import Levenshtein as lev\n",
    "import ijson, json, os\n",
    "import pandas as pd\n",
    "import glob\n",
    "import uuid\n",
    "import re\n",
    "\n",
    "path_input = \"trash/dicts/old_matches.json\"\n",
    "conn = DatabaseConnection(connect= True, **paramsl)\n",
    "conn1 = DatabaseConnection(connect= True, **paramsl)\n",
    "conn2 = DatabaseConnection(connect= True, **paramsp)\n",
    "\n",
    "def get_path(files: str, paths: str) -> str:\n",
    "    for file in files:\n",
    "        if file != None:\n",
    "            path_files = [validate_path(os.path.join(path,file)) for path in paths]\n",
    "            if any(path_files):\n",
    "                return paths[path_files.index(True)]\n",
    "    else:\n",
    "        return None"
   ]
  },
  {
   "cell_type": "code",
   "execution_count": 2,
   "metadata": {},
   "outputs": [
    {
     "name": "stdout",
     "output_type": "stream",
     "text": [
      "SELECT id, products FROM request_e07aaf8f_a587_42af_a0b3_0abd42a7ffc5.origin WHERE (products->> 'brand' = 'ARRABI')\n",
      "La conexión fue cerrada. No se puede hacer commit\n",
      "SELECT id, products FROM request_e07aaf8f_a587_42af_a0b3_0abd42a7ffc5.alternative WHERE (products->> 'brand' = 'Arrabi')\n",
      "La conexión fue cerrada. No se puede hacer commit\n",
      "False\n",
      "False\n"
     ]
    }
   ],
   "source": [
    "request = {\n",
    "    \"request_id\": \"e07aaf8f-a587-42af-a0b3-0abd42a7ffc5\",\n",
    "    \"input\":{\n",
    "                \"origin\" : {\"products\":{\"brand\": \"ARRABI\"}},\n",
    "                \"alternative\" : {\"products\":{\"brand\": \"Arrabi\"}}\n",
    "            },\n",
    "    \"s3_path_img_origin\": \"ajio-myntra/origin/20240131/\",\n",
    "    \"s3_path_img_alternative\": \"ajio-myntra/alternative/20240202/dev/\"\n",
    "}\n",
    "\n",
    "match_img(**request)"
   ]
  }
 ],
 "metadata": {
  "kernelspec": {
   "display_name": ".venv",
   "language": "python",
   "name": "python3"
  },
  "language_info": {
   "codemirror_mode": {
    "name": "ipython",
    "version": 3
   },
   "file_extension": ".py",
   "mimetype": "text/x-python",
   "name": "python",
   "nbconvert_exporter": "python",
   "pygments_lexer": "ipython3",
   "version": "3.9.5"
  },
  "orig_nbformat": 4
 },
 "nbformat": 4,
 "nbformat_minor": 2
}
