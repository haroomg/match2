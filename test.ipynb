{
 "cells": [
  {
   "cell_type": "code",
   "execution_count": 1,
   "metadata": {},
   "outputs": [
    {
     "name": "stderr",
     "output_type": "stream",
     "text": [
      "c:\\Users\\Administrator\\Desktop\\match2\\.venv\\lib\\site-packages\\tqdm\\auto.py:21: TqdmWarning: IProgress not found. Please update jupyter and ipywidgets. See https://ipywidgets.readthedocs.io/en/stable/user_install.html\n",
      "  from .autonotebook import tqdm as notebook_tqdm\n"
     ]
    }
   ],
   "source": [
    "from app.db import DatabaseConnection\n",
    "from app.main import match_img\n",
    "from app.request import load\n",
    "from app.constans import *\n",
    "import shutil\n",
    "import json\n",
    "import os\n",
    "\n",
    "conn = DatabaseConnection(**paramsl)\n",
    "conn.connect()\n",
    "\n",
    "# load(request_id=\"e07aaf8f-a587-42af-a0b3-0abd42a7ffc5\")"
   ]
  },
  {
   "cell_type": "code",
   "execution_count": 2,
   "metadata": {},
   "outputs": [],
   "source": [
    "request = {\n",
    "    \"request_id\": \"e07aaf8f-a587-42af-a0b3-0abd42a7ffc5\",\n",
    "    \"input\": {\n",
    "        \"origin\":{\"brand\": \"2bme\"},\n",
    "        \"alternative\":{\"brand\": \"2Bme\"},\n",
    "    },\n",
    "    \"s3_path_img_origin\": \"ajio-myntra/origin/20240112/\",\n",
    "    \"s3_path_img_alternative\": \"ajio-myntra/alternative/20240110/\"\n",
    "    \n",
    "}"
   ]
  },
  {
   "cell_type": "code",
   "execution_count": 3,
   "metadata": {},
   "outputs": [],
   "source": [
    "match_img(**request)"
   ]
  },
  {
   "cell_type": "code",
   "execution_count": 7,
   "metadata": {},
   "outputs": [],
   "source": [
    "import os, shutil\n",
    "for name in [\"db\", \"fastdup\", \"img\", \"s3\"]:\n",
    "    path = os.path.join(\"trash\", name)\n",
    "    shutil.rmtree(path)\n",
    "    os.mkdir(path)"
   ]
  }
 ],
 "metadata": {
  "kernelspec": {
   "display_name": ".venv",
   "language": "python",
   "name": "python3"
  },
  "language_info": {
   "codemirror_mode": {
    "name": "ipython",
    "version": 3
   },
   "file_extension": ".py",
   "mimetype": "text/x-python",
   "name": "python",
   "nbconvert_exporter": "python",
   "pygments_lexer": "ipython3",
   "version": "3.9.5"
  },
  "orig_nbformat": 4
 },
 "nbformat": 4,
 "nbformat_minor": 2
}
