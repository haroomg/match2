{
 "cells": [
  {
   "cell_type": "code",
   "execution_count": 1,
   "metadata": {},
   "outputs": [],
   "source": [
    "from app.tools.functions import *\n",
    "from app.tools.constans import *\n",
    "from app.tools.db import  *\n",
    "from app.tools.s3 import *\n",
    "from app.inputs import *\n",
    "from app.match import *\n",
    "from uuid import uuid4\n",
    "import json\n",
    "\n",
    "\n",
    "conn = DatabaseConnection(**paramsp)\n",
    "connl = DatabaseConnection(**paramsl)\n",
    "\n",
    "conn.connect()\n",
    "connl.connect()"
   ]
  },
  {
   "cell_type": "code",
   "execution_count": 2,
   "metadata": {},
   "outputs": [
    {
     "ename": "HTTPException",
     "evalue": "409: {'msm': \"couldn't find data\", 'input_id': '3ed3629f-b189-40a9-9b6a-2763e660354c', 'input': {'origin': {'products': {'brand': '2BMEE'}}, 'alternative': {'products': {'brand': '2Bmee'}}}}",
     "output_type": "error",
     "traceback": [
      "\u001b[0;31m---------------------------------------------------------------------------\u001b[0m",
      "\u001b[0;31mHTTPException\u001b[0m                             Traceback (most recent call last)",
      "Cell \u001b[0;32mIn[2], line 8\u001b[0m\n\u001b[1;32m      1\u001b[0m request \u001b[38;5;241m=\u001b[39m {\n\u001b[1;32m      2\u001b[0m     \u001b[38;5;124m\"\u001b[39m\u001b[38;5;124mrequest_id\u001b[39m\u001b[38;5;124m\"\u001b[39m: \u001b[38;5;124m\"\u001b[39m\u001b[38;5;124me07aaf8f-a587-42af-a0b3-0abd42a7ffc5\u001b[39m\u001b[38;5;124m\"\u001b[39m,\n\u001b[1;32m      3\u001b[0m     \u001b[38;5;124m\"\u001b[39m\u001b[38;5;124minput\u001b[39m\u001b[38;5;124m\"\u001b[39m: {\u001b[38;5;124m\"\u001b[39m\u001b[38;5;124morigin\u001b[39m\u001b[38;5;124m\"\u001b[39m:{\u001b[38;5;124m\"\u001b[39m\u001b[38;5;124mproducts\u001b[39m\u001b[38;5;124m\"\u001b[39m:{\u001b[38;5;124m\"\u001b[39m\u001b[38;5;124mbrand\u001b[39m\u001b[38;5;124m\"\u001b[39m:\u001b[38;5;124m\"\u001b[39m\u001b[38;5;124m2BMEE\u001b[39m\u001b[38;5;124m\"\u001b[39m}}, \u001b[38;5;124m\"\u001b[39m\u001b[38;5;124malternative\u001b[39m\u001b[38;5;124m\"\u001b[39m:{\u001b[38;5;124m\"\u001b[39m\u001b[38;5;124mproducts\u001b[39m\u001b[38;5;124m\"\u001b[39m:{\u001b[38;5;124m\"\u001b[39m\u001b[38;5;124mbrand\u001b[39m\u001b[38;5;124m\"\u001b[39m:\u001b[38;5;124m\"\u001b[39m\u001b[38;5;124m2Bmee\u001b[39m\u001b[38;5;124m\"\u001b[39m}}},\n\u001b[1;32m      4\u001b[0m     \u001b[38;5;124m\"\u001b[39m\u001b[38;5;124ms3_path_img_origin\u001b[39m\u001b[38;5;124m\"\u001b[39m: [\u001b[38;5;124m\"\u001b[39m\u001b[38;5;124majio-myntra/origin/20240131/\u001b[39m\u001b[38;5;124m\"\u001b[39m ,\u001b[38;5;124m\"\u001b[39m\u001b[38;5;124majio-myntra/origin/20240213/\u001b[39m\u001b[38;5;124m\"\u001b[39m],\n\u001b[1;32m      5\u001b[0m     \u001b[38;5;124m\"\u001b[39m\u001b[38;5;124ms3_path_img_alternative\u001b[39m\u001b[38;5;124m\"\u001b[39m:[\u001b[38;5;124m\"\u001b[39m\u001b[38;5;124majio-myntra/alternative/20240131/dev/\u001b[39m\u001b[38;5;124m\"\u001b[39m, \u001b[38;5;124m\"\u001b[39m\u001b[38;5;124majio-myntra/alternative/20240202/dev/\u001b[39m\u001b[38;5;124m\"\u001b[39m, \u001b[38;5;124m\"\u001b[39m\u001b[38;5;124majio-myntra/alternative/20240201/dev/\u001b[39m\u001b[38;5;124m\"\u001b[39m]\n\u001b[1;32m      6\u001b[0m }\n\u001b[0;32m----> 8\u001b[0m \u001b[43mmatch_img\u001b[49m\u001b[43m(\u001b[49m\u001b[38;5;241;43m*\u001b[39;49m\u001b[38;5;241;43m*\u001b[39;49m\u001b[43mrequest\u001b[49m\u001b[43m)\u001b[49m\n",
      "File \u001b[0;32m~/programing/match2/app/match.py:95\u001b[0m, in \u001b[0;36mmatch_img\u001b[0;34m(request_id, input, s3_path_img_origin, s3_path_img_alternative)\u001b[0m\n\u001b[1;32m     87\u001b[0m     msm \u001b[38;5;241m=\u001b[39m {\n\u001b[1;32m     88\u001b[0m         \u001b[38;5;124m\"\u001b[39m\u001b[38;5;124mmsm\u001b[39m\u001b[38;5;124m\"\u001b[39m:STATUS[input_request\u001b[38;5;241m.\u001b[39mstatus],\n\u001b[1;32m     89\u001b[0m         \u001b[38;5;124m\"\u001b[39m\u001b[38;5;124minput_id\u001b[39m\u001b[38;5;124m\"\u001b[39m: input_request\u001b[38;5;241m.\u001b[39mid,\n\u001b[1;32m     90\u001b[0m         \u001b[38;5;124m\"\u001b[39m\u001b[38;5;124minput\u001b[39m\u001b[38;5;124m\"\u001b[39m: input_request\u001b[38;5;241m.\u001b[39mrequest\n\u001b[1;32m     91\u001b[0m     }\n\u001b[1;32m     93\u001b[0m     input_request\u001b[38;5;241m.\u001b[39mupdate()\n\u001b[0;32m---> 95\u001b[0m     \u001b[38;5;28;01mraise\u001b[39;00m HTTPException(status_code\u001b[38;5;241m=\u001b[39m\u001b[38;5;241m409\u001b[39m, detail\u001b[38;5;241m=\u001b[39mmsm)\n\u001b[1;32m     97\u001b[0m directory_path \u001b[38;5;241m=\u001b[39m {\n\u001b[1;32m     98\u001b[0m         \u001b[38;5;124m\"\u001b[39m\u001b[38;5;124mroot_address\u001b[39m\u001b[38;5;124m\"\u001b[39m: os\u001b[38;5;241m.\u001b[39mpath\u001b[38;5;241m.\u001b[39mjoin(TRASH_PATH, \u001b[38;5;28mstr\u001b[39m(uuid4())),\n\u001b[1;32m     99\u001b[0m     }\n\u001b[1;32m    101\u001b[0m directory_path[\u001b[38;5;124m\"\u001b[39m\u001b[38;5;124mimg\u001b[39m\u001b[38;5;124m\"\u001b[39m] \u001b[38;5;241m=\u001b[39m os\u001b[38;5;241m.\u001b[39mpath\u001b[38;5;241m.\u001b[39mjoin(directory_path[\u001b[38;5;124m\"\u001b[39m\u001b[38;5;124mroot_address\u001b[39m\u001b[38;5;124m\"\u001b[39m], \u001b[38;5;124m\"\u001b[39m\u001b[38;5;124mimg\u001b[39m\u001b[38;5;124m\"\u001b[39m)\n",
      "\u001b[0;31mHTTPException\u001b[0m: 409: {'msm': \"couldn't find data\", 'input_id': '3ed3629f-b189-40a9-9b6a-2763e660354c', 'input': {'origin': {'products': {'brand': '2BMEE'}}, 'alternative': {'products': {'brand': '2Bmee'}}}}"
     ]
    }
   ],
   "source": [
    "request = {\n",
    "    \"request_id\": \"e07aaf8f-a587-42af-a0b3-0abd42a7ffc5\",\n",
    "    \"input\": {\"origin\":{\"products\":{\"brand\":\"2BMEE\"}}, \"alternative\":{\"products\":{\"brand\":\"2Bmee\"}}},\n",
    "    \"s3_path_img_origin\": [\"ajio-myntra/origin/20240131/\" ,\"ajio-myntra/origin/20240213/\"],\n",
    "    \"s3_path_img_alternative\":[\"ajio-myntra/alternative/20240131/dev/\", \"ajio-myntra/alternative/20240202/dev/\", \"ajio-myntra/alternative/20240201/dev/\"]\n",
    "}\n",
    "\n",
    "match_img(**request)"
   ]
  },
  {
   "cell_type": "code",
   "execution_count": 5,
   "metadata": {},
   "outputs": [],
   "source": [
    "originProducts, alternativeProducts = conn.execute('select \"originProducts\", \"alternativeProducts\" from public.\"ProductsRequest2\" limit 1').fetchone()"
   ]
  },
  {
   "cell_type": "code",
   "execution_count": 6,
   "metadata": {},
   "outputs": [
    {
     "data": {
      "text/plain": [
       "{'sku': '25001882',\n",
       " 'brand': '2Bme',\n",
       " 'color': 'Maroon',\n",
       " 'input': {'pdp': False, 'url': 'https://www.myntra.com/womens-western-wear'},\n",
       " 'price': '499',\n",
       " 'sizes': ['S', 'M', 'L', 'XL', 'XXL'],\n",
       " 'stock': 'Out Of Stock',\n",
       " 'gender': 'Women',\n",
       " 'category': 'Home,Clothing,Women Clothing,Leggings,2Bme Leggings,More by 2Bme',\n",
       " 'currency': '₹',\n",
       " 'mrp_price': '499',\n",
       " 'description': '\"Character\":\"NA\",\"Closure\":\"Slip-On\",\"Fabric\":\"Cotton\",\"Fabric 2\":\"NA\",\"Length\":\"Ankle Length\",\"Multipack Set\":\"Single\",\"Occasion\":\"Casual\",\"Pattern\":\"Solid\",\"Sustainable\":\"Regular\",\"Wash Care\":\"Machine Wash\",\"Weave Type\":\"Machine Weave\",Product Details: Maroon solid ankle length leggings, has a elasticated waistband with slip on closure,MATERIAL & CARE: CottonMachine Wash,SIZE & FIT: The model (height 5\\'8\") is wearing a size S',\n",
       " 'product_url': 'https://www.myntra.com/leggings/2bme/2bme-cotton-ankle-length-leggings/25001882/buy',\n",
       " 'product_name': 'Cotton Ankle Length Leggings',\n",
       " 'product_type': 'Leggings',\n",
       " 'rating_count': '0',\n",
       " 'average_rating': '0',\n",
       " 'product_images': {'s3_path': 'ajio-myntra/alternative/20240201/dev/',\n",
       "  'input_id': 'aa757cc7-f924-4d99-9d58-bcdcd752e40f',\n",
       "  'files_name': ['j_ls38rrc913aejj1v5i.509dff7fffc76c35b34a5d37b0bf1366cda63196.file_ls3uk11u2d91dqh3sv.[_].webp',\n",
       "   'j_ls38rrc913aejj1v5i.509dff7fffc76c35b34a5d37b0bf1366cda63196.file_ls3uk11u1g46e52fwu.[_].webp',\n",
       "   'j_ls38rrc913aejj1v5i.509dff7fffc76c35b34a5d37b0bf1366cda63196.file_ls3uk11u7exktdpbv.[_].webp',\n",
       "   'j_ls38rrc913aejj1v5i.509dff7fffc76c35b34a5d37b0bf1366cda63196.file_ls3uk11u1kow3ed7y2.[_].webp',\n",
       "   'j_ls38rrc913aejj1v5i.509dff7fffc76c35b34a5d37b0bf1366cda63196.file_ls3uk11uc87h0kgq3.[_].webp',\n",
       "   'j_ls38rrc913aejj1v5i.509dff7fffc76c35b34a5d37b0bf1366cda63196.file_ls3uk11u2qw5e23478.[_].webp'],\n",
       "  'matched_image': 'j_ls38rrc913aejj1v5i.509dff7fffc76c35b34a5d37b0bf1366cda63196.file_ls3uk11uc87h0kgq3.[_].webp'},\n",
       " 'last_updated_time': '2024-02-01T23:27:56.894Z',\n",
       " 'product_images_url': ['http://assets.myntassets.com/assets/images/25001882/2023/9/15/b95f0529-51ec-438d-9ea2-d8fb0321ff2b1694765150943WomenCottonSolidChuridar1.jpg',\n",
       "  'http://assets.myntassets.com/assets/images/25001882/2023/9/15/62a197bb-b0c9-4209-96dd-0a921b80ef291694765150985WomenCottonSolidChuridar3.jpg',\n",
       "  'http://assets.myntassets.com/assets/images/25001882/2023/9/15/0e48f8c1-a0c0-49b0-84b1-e161991233311694765151005WomenCottonSolidChuridar5.jpg',\n",
       "  'http://assets.myntassets.com/assets/images/25001882/2023/9/15/b95f0529-51ec-438d-9ea2-d8fb0321ff2b1694765150943WomenCottonSolidChuridar1.jpg',\n",
       "  'http://assets.myntassets.com/assets/images/25001882/2023/9/15/8200e137-06f9-48ea-abd2-bfb6766567141694765150963WomenCottonSolidChuridar4.jpg',\n",
       "  'http://assets.myntassets.com/assets/images/25001882/2023/9/15/9288d1c5-906f-4cd2-961d-f3dfae5404731694765151028WomenCottonSolidChuridar2.jpg']}"
      ]
     },
     "execution_count": 6,
     "metadata": {},
     "output_type": "execute_result"
    }
   ],
   "source": [
    "alternativeProducts"
   ]
  }
 ],
 "metadata": {
  "kernelspec": {
   "display_name": ".venv",
   "language": "python",
   "name": "python3"
  },
  "language_info": {
   "codemirror_mode": {
    "name": "ipython",
    "version": 3
   },
   "file_extension": ".py",
   "mimetype": "text/x-python",
   "name": "python",
   "nbconvert_exporter": "python",
   "pygments_lexer": "ipython3",
   "version": "3.9.2"
  },
  "orig_nbformat": 4
 },
 "nbformat": 4,
 "nbformat_minor": 2
}
