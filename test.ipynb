{
 "cells": [
  {
   "cell_type": "code",
   "execution_count": 1,
   "metadata": {},
   "outputs": [
    {
     "name": "stderr",
     "output_type": "stream",
     "text": [
      "/home/lharo/programing/match2/.venv/lib/python3.9/site-packages/tqdm/auto.py:21: TqdmWarning: IProgress not found. Please update jupyter and ipywidgets. See https://ipywidgets.readthedocs.io/en/stable/user_install.html\n",
      "  from .autonotebook import tqdm as notebook_tqdm\n"
     ]
    }
   ],
   "source": [
    "from app.tools.functions import *\n",
    "from app.tools.constans import *\n",
    "from pprint import pprint as pp\n",
    "from app.tools.db import  *\n",
    "from app.tools.s3 import *\n",
    "from typing import Union\n",
    "from app.match import *\n",
    "import ijson, json, os\n",
    "import pandas as pd\n",
    "import glob\n",
    "import uuid\n",
    "import re\n",
    "\n",
    "conn = DatabaseConnection(**paramsl)"
   ]
  },
  {
   "cell_type": "code",
   "execution_count": 2,
   "metadata": {},
   "outputs": [
    {
     "name": "stdout",
     "output_type": "stream",
     "text": [
      "Un total de 13956 imagen(es) ha(n) sido descargada(s).\n",
      "FastDup Software, (C) copyright 2022 Dr. Amir Alush and Dr. Danny Bickson.\n",
      "2024-03-05 19:57:55 [INFO] Going to loop over dir trash/bd7967db-0e4b-4618-b24b-1e9412862639/fastdup/local_path_files.txt\n",
      "2024-03-05 19:57:55 [INFO] Found total 13956 images to run on, 13956 train, 0 test, name list 13956, counter 13956 \n",
      "2024-03-05 20:01:46 [INFO] Found total 13956 images to run onimated: 0 Minutes\n",
      "Finished histogram 6.452\n",
      "Finished bucket sort 6.529\n",
      "2024-03-05 20:01:49 [INFO] 2710) Finished write_index() NN model\n",
      "2024-03-05 20:01:49 [INFO] Stored nn model index file trash/bd7967db-0e4b-4618-b24b-1e9412862639/fastdup/nnf.index\n",
      "2024-03-05 20:01:50 [INFO] Total time took 235105 ms\n",
      "2024-03-05 20:01:50 [INFO] Found a total of 13181 fully identical images (d>0.990), which are 47.22 % of total graph edges\n",
      "2024-03-05 20:01:50 [INFO] Found a total of 989 nearly identical images(d>0.980), which are 3.54 % of total graph edges\n",
      "2024-03-05 20:01:50 [INFO] Found a total of 28071 above threshold images (d>0.500), which are 100.57 % of total graph edges\n",
      "2024-03-05 20:01:50 [INFO] Found a total of 1641 outlier images         (d<0.050), which are 5.88 % of total graph edges\n",
      "2024-03-05 20:01:50 [INFO] Min distance found 0.454 max distance 1.000\n",
      "2024-03-05 20:01:50 [INFO] Running connected components for ccthreshold 0.960000 \n",
      ".0\n",
      " ########################################################################################\n",
      "\n",
      "Dataset Analysis Summary: \n",
      "\n",
      "    Dataset contains 13956 images\n",
      "    Valid images are 100.00% (13,956) of the data, invalid are 0.00% (0) of the data\n",
      "    Components:  failed to find images clustered into components, try to run with lower cc_threshold.\n",
      "    Outliers: 8.34% (1,164) of images are possible outliers, and fall in the bottom 5.00% of similarity values.\n",
      "    For a detailed list of outliers, use `.outliers()`.\n",
      "\n",
      "########################################################################################\n",
      "Would you like to see awesome visualizations for some of the most popular academic datasets?\n",
      "Click here to see and learn more: https://app.visual-layer.com/vl-datasets?utm_source=fastdup\n",
      "########################################################################################\n",
      "Se ha terminado de matchar los productos, en total fue un(os) 434 matchados.\n"
     ]
    }
   ],
   "source": [
    "request = {\n",
    "    \"request_id\": \"e07aaf8f-a587-42af-a0b3-0abd42a7ffc5\",\n",
    "    \"input\":{\n",
    "                \"origin\" : {\"products\":{\"brand\": \"3PIN\"}},\n",
    "                \"alternative\" : {\"products\":{\"brand\": \"3PIN\"}}\n",
    "            },\n",
    "    \"s3_path_img_origin\": \"ajio-myntra/origin/20240131/\",\n",
    "    \"s3_path_img_alternative\": [\"ajio-myntra/alternative/20240131/dev/\", \"ajio-myntra/alternative/20240202/dev/\", \"ajio-myntra/alternative/20240201/dev/\"]\n",
    "}\n",
    "\n",
    "match_img(**request)"
   ]
  }
 ],
 "metadata": {
  "kernelspec": {
   "display_name": ".venv",
   "language": "python",
   "name": "python3"
  },
  "language_info": {
   "codemirror_mode": {
    "name": "ipython",
    "version": 3
   },
   "file_extension": ".py",
   "mimetype": "text/x-python",
   "name": "python",
   "nbconvert_exporter": "python",
   "pygments_lexer": "ipython3",
   "version": "3.9.2"
  },
  "orig_nbformat": 4
 },
 "nbformat": 4,
 "nbformat_minor": 2
}
