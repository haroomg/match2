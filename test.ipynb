{
 "cells": [
  {
   "cell_type": "code",
   "execution_count": 1,
   "metadata": {},
   "outputs": [
    {
     "name": "stderr",
     "output_type": "stream",
     "text": [
      "c:\\Users\\Administrator\\Desktop\\match2\\.venv\\lib\\site-packages\\tqdm\\auto.py:21: TqdmWarning: IProgress not found. Please update jupyter and ipywidgets. See https://ipywidgets.readthedocs.io/en/stable/user_install.html\n",
      "  from .autonotebook import tqdm as notebook_tqdm\n"
     ]
    }
   ],
   "source": [
    "from app.tools.db import DatabaseConnection\n",
    "from app.main import match_img\n",
    "from app.match import list_matches\n",
    "from app.request import load\n",
    "from app.tools.constans import *\n",
    "import shutil\n",
    "import json\n",
    "import os\n",
    "\n",
    "conn = DatabaseConnection(**paramsl)\n",
    "conn.connect()\n",
    "\n",
    "# load(request_id=\"e07aaf8f-a587-42af-a0b3-0abd42a7ffc5\")"
   ]
  },
  {
   "cell_type": "code",
   "execution_count": null,
   "metadata": {},
   "outputs": [],
   "source": [
    "request = {\n",
    "    \"request_id\": \"e07aaf8f-a587-42af-a0b3-0abd42a7ffc5\",\n",
    "    \"input\": {\n",
    "        \"origin\":{\"brand\": \"2bme2\"},\n",
    "        \"alternative\":{\"brand\": \"2Bme\"},\n",
    "    },\n",
    "    \"s3_path_img_origin\": \"ajio-myntra/origin/20240112/\",\n",
    "    \"s3_path_img_alternative\": \"ajio-myntra/alternative/20240110/\"\n",
    "    \n",
    "}\n",
    "\n",
    "request_name = \"request_\" + request[\"request_id\"].replace(\"-\", \"_\")\n",
    "input = (json.dumps(request[\"input\"]), )\n",
    "query = f\"SELECT * FROM {request_name}.inputs WHERE input = %s\"\n",
    "\n",
    "conn.execute(query, input)\n",
    "\n",
    "result = conn.result.fetchone()\n",
    "print(result == None)"
   ]
  },
  {
   "cell_type": "code",
   "execution_count": 3,
   "metadata": {},
   "outputs": [
    {
     "name": "stdout",
     "output_type": "stream",
     "text": [
      "Todos los archivos acaban de ser descargados.\n",
      "El archivo trash/fastdup\\request_e07aaf8f_a587_42af_a0b3_0abd42a7ffc5\\path_images.txt acaba de ser midificado.\n",
      "FastDup Software, (C) copyright 2022 Dr. Amir Alush and Dr. Danny Bickson.\n",
      "\n",
      " ########################################################################################\n",
      "\n",
      "Dataset Analysis Summary: \n",
      "\n",
      "    Dataset contains 5047 images\n",
      "    Valid images are 100.00% (5,047) of the data, invalid are 0.00% (0) of the data\n",
      "    Similarity:  78.28% (3,951) belong to 24 similarity clusters (components).\n",
      "    21.72% (1,096) images do not belong to any similarity cluster.\n",
      "    Largest cluster has 112 (2.22%) images.\n",
      "    For a detailed analysis, use `.connected_components()`\n",
      "(similarity threshold used is 0.5, connected component threshold used is 0.96).\n",
      "\n",
      "    Outliers: 7.69% (388) of images are possible outliers, and fall in the bottom 5.00% of similarity values.\n",
      "    For a detailed list of outliers, use `.outliers()`.\n",
      "\n",
      "########################################################################################\n",
      "Would you like to see awesome visualizations for some of the most popular academic datasets?\n",
      "Click here to see and learn more: https://app.visual-layer.com/vl-datasets?utm_source=fastdup\n",
      "########################################################################################\n"
     ]
    }
   ],
   "source": [
    "request = {\n",
    "    \"request_id\": \"e07aaf8f-a587-42af-a0b3-0abd42a7ffc5\",\n",
    "    \"input\": {\n",
    "        \"origin\":{\"brand\": \"3pin\"},\n",
    "        \"alternative\":{\"brand\": \"3PIN\"},\n",
    "    },\n",
    "    \"s3_path_img_origin\": \"ajio-myntra/origin/20240112/\",\n",
    "    \"s3_path_img_alternative\": \"ajio-myntra/alternative/20240110/\"\n",
    "    \n",
    "}\n",
    "\n",
    "match_img(**request)\n",
    "\n",
    "for name in [\"db\", \"fastdup\", \"img\", \"s3\"]:\n",
    "    path = os.path.join(\"trash\", name)\n",
    "    shutil.rmtree(path)\n",
    "    os.mkdir(path)"
   ]
  },
  {
   "cell_type": "code",
   "execution_count": null,
   "metadata": {},
   "outputs": [],
   "source": [
    "request = {\n",
    "    \"request_id\": \"e07aaf8f-a587-42af-a0b3-0abd42a7ffc5\",\n",
    "    \"input_id\": 4\n",
    "}\n",
    "\n",
    "list_matches(**request)"
   ]
  },
  {
   "cell_type": "code",
   "execution_count": 2,
   "metadata": {},
   "outputs": [],
   "source": [
    "for name in [\"db\", \"fastdup\", \"img\", \"s3\"]:\n",
    "    path = os.path.join(\"trash\", name)\n",
    "    shutil.rmtree(path)\n",
    "    os.mkdir(path)"
   ]
  }
 ],
 "metadata": {
  "kernelspec": {
   "display_name": ".venv",
   "language": "python",
   "name": "python3"
  },
  "language_info": {
   "codemirror_mode": {
    "name": "ipython",
    "version": 3
   },
   "file_extension": ".py",
   "mimetype": "text/x-python",
   "name": "python",
   "nbconvert_exporter": "python",
   "pygments_lexer": "ipython3",
   "version": "3.9.5"
  },
  "orig_nbformat": 4
 },
 "nbformat": 4,
 "nbformat_minor": 2
}
