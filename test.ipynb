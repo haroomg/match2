{
 "cells": [
  {
   "cell_type": "code",
   "execution_count": 2,
   "metadata": {},
   "outputs": [
    {
     "name": "stderr",
     "output_type": "stream",
     "text": [
      "/home/lharo/programing/match2/.venv/lib/python3.9/site-packages/tqdm/auto.py:21: TqdmWarning: IProgress not found. Please update jupyter and ipywidgets. See https://ipywidgets.readthedocs.io/en/stable/user_install.html\n",
      "  from .autonotebook import tqdm as notebook_tqdm\n"
     ]
    }
   ],
   "source": [
    "from app.tools.functions import *\n",
    "from app.tools.constans import *\n",
    "from app.tools.db import  *\n",
    "from app.tools.s3 import *\n",
    "from app.match import *\n",
    "import pandas as pd\n",
    "\n",
    "\n",
    "conn = DatabaseConnection(**paramsl)"
   ]
  },
  {
   "cell_type": "code",
   "execution_count": null,
   "metadata": {},
   "outputs": [],
   "source": [
    "request = {\n",
    "    \"request_id\": \"e07aaf8f-a587-42af-a0b3-0abd42a7ffc5\",\n",
    "    \"input\":{\n",
    "                \"origin\" : {\"products\":{\"brand\": \"3PIN\"}},\n",
    "                \"alternative\" : {\"products\":{\"brand\": \"3PIN\"}}\n",
    "            },\n",
    "    \"s3_path_img_origin\": \"ajio-myntra/origin/20240131/\",\n",
    "    \"s3_path_img_alternative\": [\"ajio-myntra/alternative/20240131/dev/\", \"ajio-myntra/alternative/20240202/dev/\", \"ajio-myntra/alternative/20240201/dev/\"]\n",
    "}\n",
    "\n",
    "# match_img(**request)"
   ]
  }
 ],
 "metadata": {
  "kernelspec": {
   "display_name": ".venv",
   "language": "python",
   "name": "python3"
  },
  "language_info": {
   "codemirror_mode": {
    "name": "ipython",
    "version": 3
   },
   "file_extension": ".py",
   "mimetype": "text/x-python",
   "name": "python",
   "nbconvert_exporter": "python",
   "pygments_lexer": "ipython3",
   "version": "3.9.2"
  },
  "orig_nbformat": 4
 },
 "nbformat": 4,
 "nbformat_minor": 2
}
