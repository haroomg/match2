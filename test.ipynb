{
 "cells": [
  {
   "cell_type": "code",
   "execution_count": 23,
   "metadata": {},
   "outputs": [
    {
     "data": {
      "text/plain": [
       "('4d4b0081-65f9-4681-bac7-dfe3f205e54e',\n",
       " 'company_656144c7-0110-472b-aaa1-9da8d79adf70/request_4d4b0081-65f9-4681-bac7-dfe3f205e54e/',\n",
       " 'origin: null, originNotes: Kevin, alternative: https://juaskevin.com, alternativeNotes: Alternativo',\n",
       " datetime.datetime(2023, 11, 30, 4, 0),\n",
       " datetime.datetime(2023, 11, 14, 14, 49, 32, 711000),\n",
       " datetime.datetime(2023, 11, 22, 15, 35, 0, 539000),\n",
       " 'b71f7a28-44a5-4aa0-80dc-2adfb0049aee',\n",
       " 1,\n",
       " 2,\n",
       " 1,\n",
       " 3,\n",
       " None,\n",
       " 4,\n",
       " {'url': 'string', 'name': 'string', 'price': 'number'})"
      ]
     },
     "execution_count": 23,
     "metadata": {},
     "output_type": "execute_result"
    }
   ],
   "source": [
    "import os\n",
    "import psycopg2\n",
    "\n",
    "db_params = {\n",
    "    \"host\": os.environ.get(\"POSTGRES_HOST_P\") ,\n",
    "    \"database\": os.environ.get(\"POSTGRES_DB_P\") ,\n",
    "    \"user\": os.environ.get(\"POSTGRES_DB_P\") ,\n",
    "    \"password\": os.environ.get(\"POSTGRES_PASSWORD_P\") ,\n",
    "    \"port\": os.environ.get(\"POSTGRES_PORT_P\") \n",
    "}\n",
    "\n",
    "con = psycopg2.connect(**db_params)\n",
    "cursor = con.cursor()\n",
    "\n",
    "query = 'SELECT * FROM \"Request\"'\n",
    "\n",
    "cursor.execute(query)\n",
    "\n",
    "resultado = cursor.fetchone()\n",
    "resultado"
   ]
  },
  {
   "cell_type": "code",
   "execution_count": null,
   "metadata": {},
   "outputs": [],
   "source": [
    "import boto3\n",
    "\n",
    "# Configuración de AWS\n",
    "aws_access_key_id = 'TU_ACCESS_KEY_ID'\n",
    "aws_secret_access_key = 'TU_SECRET_ACCESS_KEY'\n",
    "bucket_name = 'NOMBRE_DEL_BUCKET'\n",
    "s3_key = 'RUTA_DEL_ARCHIVO_EN_S3'\n",
    "local_file_path = 'RUTA_LOCAL_DEL_ARCHIVO'\n",
    "\n",
    "# Crear una instancia del cliente de S3\n",
    "s3_client = boto3.client('s3', aws_access_key_id=aws_access_key_id, aws_secret_access_key=aws_secret_access_key)\n",
    "\n",
    "# Descargar el archivo desde S3\n",
    "s3_client.download_file(bucket_name, s3_key, local_file_path)\n",
    "\n",
    "print(f'Archivo descargado: {local_file_path}')"
   ]
  }
 ],
 "metadata": {
  "kernelspec": {
   "display_name": ".venv",
   "language": "python",
   "name": "python3"
  },
  "language_info": {
   "codemirror_mode": {
    "name": "ipython",
    "version": 3
   },
   "file_extension": ".py",
   "mimetype": "text/x-python",
   "name": "python",
   "nbconvert_exporter": "python",
   "pygments_lexer": "ipython3",
   "version": "3.9.2"
  },
  "orig_nbformat": 4
 },
 "nbformat": 4,
 "nbformat_minor": 2
}
