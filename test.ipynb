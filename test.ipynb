{
 "cells": [
  {
   "cell_type": "code",
   "execution_count": 1,
   "metadata": {},
   "outputs": [],
   "source": [
    "from app.db import DatabaseConnection\n",
    "from app.request import load\n",
    "from dotenv import load_dotenv \n",
    "import pandas as pd\n",
    "import numpy as np\n",
    "import ijson\n",
    "import os\n",
    "\n",
    "params = {\n",
    "    \"host\": os.environ.get(\"POSTGRES_HOST\") ,\n",
    "    \"database\": os.environ.get(\"POSTGRES_DB\") ,\n",
    "    \"user\": os.environ.get(\"POSTGRES_DB\") ,\n",
    "    \"password\": os.environ.get(\"POSTGRES_PASSWORD\") ,\n",
    "    \"port\": os.environ.get(\"POSTGRES_PORT\") \n",
    "}\n",
    "\n",
    "conn = DatabaseConnection(**params)\n",
    "conn.connect()"
   ]
  },
  {
   "cell_type": "code",
   "execution_count": 7,
   "metadata": {},
   "outputs": [],
   "source": [
    "def create_load_data(\n",
    "    shema_name: str = \"public\",\n",
    "    table_name: str = None, \n",
    "    path_file: str = None,\n",
    "    conn = None\n",
    "    ) -> None:\n",
    "    \n",
    "    if not table_name:\n",
    "        table_name = os.path.basename(path_file).split(\".\")[0]\n",
    "    \n",
    "    df = pd.read_json(path_file)\n",
    "    dtype = df.dtypes\n",
    "    del df\n",
    "    \n",
    "    for name, ty in dtype.copy().items():\n",
    "        if ty == int:\n",
    "            dtype[name] = \"INTEGER\"\n",
    "        elif ty == float:\n",
    "            dtype[name] = \"FLOAT\"\n",
    "        elif ty == bool:\n",
    "            dtype[name] = \"BOOLEAN\"\n",
    "        elif ty == object:\n",
    "            dtype[name] = \"TEXT\"\n",
    "        elif ty == np.datetime64:\n",
    "            dtype[name] = \"DATE\"\n",
    "        else:\n",
    "            dtype[name] = \"UNKNOWN\"\n",
    "    \n",
    "    content_table = \"id SERIAL PRIMARY KEY, \"\n",
    "    for name, value in dtype.items():\n",
    "        content_table += f\"{name} {value}, \"\n",
    "    content_table = content_table[:-2]\n",
    "    \n",
    "    query = f\"CREATE TABLE IF NOT EXISTS {shema_name}.{table_name}({content_table})\"\n",
    "    conn.execute(query)\n",
    "    conn.commit()\n",
    "    \n",
    "    with open(path_file, \"r\", encoding=\"utf-8\") as json_file:\n",
    "        \n",
    "        objets_json = ijson.items(json_file, \"item\")\n",
    "        \n",
    "        query = f\"INCERT INTO {table_name} {', '.join(dtype.keys())}\" \n",
    "        copy = query\n",
    "        \n",
    "        for obj in objets_json:\n",
    "            \n",
    "            params = []\n",
    "            for val in obj.values():\n",
    "                \n",
    "                if val == object:\n",
    "                    params.append(str(val))\n",
    "                else:\n",
    "                    params.append(val)\n",
    "            print(params)\n",
    "            query += f\"{', '.join(['%s'] * len(params))}\"\n",
    "            conn.execute(query, params)\n",
    "            query = copy\n",
    "    \n",
    "    return query"
   ]
  },
  {
   "cell_type": "code",
   "execution_count": 8,
   "metadata": {},
   "outputs": [
    {
     "name": "stdout",
     "output_type": "stream",
     "text": [
      "('464087281009', '2.9', '47', 'Footwear', '70% off', 'bucik', 'https://www.ajio.com/bucik-cross-strappy-sandals/p/464087281_brown', ['j_lq5dbaxrzw1czqfic.c055587471519cfa3f5265a4ddb4202bf3d91720.file_lq5dcice1prj6ai89w.[_].jpg', 'j_lq5dbaxrzw1czqfic.c055587471519cfa3f5265a4ddb4202bf3d91720.file_lq5dcice224prtfomx.[_].jpg', 'j_lq5dbaxrzw1czqfic.c055587471519cfa3f5265a4ddb4202bf3d91720.file_lq5dcice28pe1zgdrr.[_].jpg'], '660', 'INR', '2199', [], 'Men', ['https://assets.ajio.com/medias/sys_master/root/20230621/5fkA/64928264d55b7d0c638f6965/bucik_brown_cross_strappy_sandals.jpg', 'https://assets.ajio.com/medias/sys_master/root/20230621/5fkA/64928264d55b7d0c638f6958/bucik_brown_cross_strappy_sandals.jpg', 'https://assets.ajio.com/medias/sys_master/root/20230621/5fkA/64928264d55b7d0c638f6955/bucik_brown_cross_strappy_sandals.jpg'], {'url': 'https://www.ajio.com/b/bucik', 'category': ''})\n"
     ]
    },
    {
     "ename": "ProgrammingError",
     "evalue": "can't adapt type 'dict'",
     "output_type": "error",
     "traceback": [
      "\u001b[0;31m---------------------------------------------------------------------------\u001b[0m",
      "\u001b[0;31mProgrammingError\u001b[0m                          Traceback (most recent call last)",
      "Cell \u001b[0;32mIn[8], line 1\u001b[0m\n\u001b[0;32m----> 1\u001b[0m create_load_data(\u001b[39m\"\u001b[39;49m\u001b[39mrequest_4d4b0081_65f9_4681_bac7_dfe3f205e54e\u001b[39;49m\u001b[39m\"\u001b[39;49m,\u001b[39m\"\u001b[39;49m\u001b[39mtest\u001b[39;49m\u001b[39m\"\u001b[39;49m, \u001b[39m\"\u001b[39;49m\u001b[39mtrash/data/New_collector_20231214_154733.success.json\u001b[39;49m\u001b[39m\"\u001b[39;49m, conn)\n",
      "Cell \u001b[0;32mIn[7], line 50\u001b[0m, in \u001b[0;36mcreate_load_data\u001b[0;34m(shema_name, table_name, path_file, conn)\u001b[0m\n\u001b[1;32m     48\u001b[0m         \u001b[39mprint\u001b[39m(params)\n\u001b[1;32m     49\u001b[0m         query \u001b[39m+\u001b[39m\u001b[39m=\u001b[39m \u001b[39mf\u001b[39m\u001b[39m\"\u001b[39m\u001b[39m{\u001b[39;00m\u001b[39m'\u001b[39m\u001b[39m, \u001b[39m\u001b[39m'\u001b[39m\u001b[39m.\u001b[39mjoin([\u001b[39m'\u001b[39m\u001b[39m%s\u001b[39;00m\u001b[39m'\u001b[39m]\u001b[39m \u001b[39m\u001b[39m*\u001b[39m\u001b[39m \u001b[39m\u001b[39mlen\u001b[39m(params))\u001b[39m}\u001b[39;00m\u001b[39m\"\u001b[39m\n\u001b[0;32m---> 50\u001b[0m         conn\u001b[39m.\u001b[39;49mexecute(query, params)\n\u001b[1;32m     51\u001b[0m         query \u001b[39m=\u001b[39m copy\n\u001b[1;32m     53\u001b[0m \u001b[39mreturn\u001b[39;00m query\n",
      "File \u001b[0;32m~/programin/match2/app/db.py:25\u001b[0m, in \u001b[0;36mDatabaseConnection.execute\u001b[0;34m(self, query, params)\u001b[0m\n\u001b[1;32m     23\u001b[0m \u001b[39mdef\u001b[39;00m \u001b[39mexecute\u001b[39m(\u001b[39mself\u001b[39m, query, params\u001b[39m=\u001b[39m\u001b[39mNone\u001b[39;00m):\n\u001b[1;32m     24\u001b[0m     \u001b[39mif\u001b[39;00m params:\n\u001b[0;32m---> 25\u001b[0m         \u001b[39mself\u001b[39;49m\u001b[39m.\u001b[39;49mcursor\u001b[39m.\u001b[39;49mexecute(query, params)\n\u001b[1;32m     26\u001b[0m     \u001b[39melse\u001b[39;00m:\n\u001b[1;32m     27\u001b[0m         \u001b[39mself\u001b[39m\u001b[39m.\u001b[39mcursor\u001b[39m.\u001b[39mexecute(query)\n",
      "\u001b[0;31mProgrammingError\u001b[0m: can't adapt type 'dict'"
     ]
    }
   ],
   "source": [
    "create_load_data(\"request_4d4b0081_65f9_4681_bac7_dfe3f205e54e\",\"test\", \"trash/data/New_collector_20231214_154733.success.json\", conn)"
   ]
  }
 ],
 "metadata": {
  "kernelspec": {
   "display_name": ".venv",
   "language": "python",
   "name": "python3"
  },
  "language_info": {
   "codemirror_mode": {
    "name": "ipython",
    "version": 3
   },
   "file_extension": ".py",
   "mimetype": "text/x-python",
   "name": "python",
   "nbconvert_exporter": "python",
   "pygments_lexer": "ipython3",
   "version": "3.9.2"
  },
  "orig_nbformat": 4
 },
 "nbformat": 4,
 "nbformat_minor": 2
}
