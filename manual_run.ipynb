{
 "cells": [
  {
   "cell_type": "code",
   "execution_count": null,
   "metadata": {},
   "outputs": [],
   "source": [
    "from app.main import match_img\n",
    "from pprint import pprint as pp\n",
    "import json\n",
    "import shutil\n",
    "import os\n",
    "\n",
    "PATH = \"trash/dicts/\"\n",
    "files_name = os.listdir(PATH)\n",
    "path_images = [\"ajio-myntra/alternative/20240131/dev\", \"ajio-myntra/alternative/20240202/dev\", \"ajio-myntra/alternative/20240131/dev\"]\n",
    "\n",
    "path_images_origin = \"ajio-myntra/origin/20240131/\"\n",
    "\n",
    "routes = {\n",
    "    r\"trash\\dicts\\brands_dictionary_kids.json\": \"ajio-myntra/alternative/20240131/dev/\",\n",
    "    r\"trash\\dicts\\brands_dictionary_home.json\": \"ajio-myntra/alternative/20240202/dev/\",\n",
    "    r\"trash\\dicts\\brands_dictionary_men.json\": \"ajio-myntra/alternative/20240131/dev/\"\n",
    "}\n",
    "\n",
    "for local_path, s3_path in routes.items():\n",
    "    with open(local_path, \"r\", encoding=\"utf8\") as file:\n",
    "        brands = json.load(file)\n",
    "\n",
    "        for brand in brands:\n",
    "\n",
    "            input_origin = {\"brand\": brand[\"ajio_brand\"]}\n",
    "            input_alternative = {\"brand\": brand[\"myntra_brand\"]}\n",
    "\n",
    "            request = {\n",
    "                \"request_id\": \"e07aaf8f-a587-42af-a0b3-0abd42a7ffc5\",\n",
    "                \"input\": {\n",
    "                    \"origin\":input_origin,\n",
    "                    \"alternative\":input_alternative,\n",
    "                },\n",
    "                \"s3_path_img_origin\": path_images_origin,\n",
    "                \"s3_path_img_alternative\": s3_path,\n",
    "                \n",
    "            }\n",
    "\n",
    "            try:\n",
    "                print(\"Empzamos nuevo matching:\")\n",
    "                print(\"request:\")\n",
    "                pp(request)\n",
    "                match_img(**request)\n",
    "                print(\" el match termino revisa el resulatdo en la Base de datos\")\n",
    "            except TypeError as e:\n",
    "                for name in [\"db\", \"fastdup\", \"img\"]:\n",
    "                    shutil.rmtree(f\"trash/{name}\")\n",
    "                    os.mkdir(f\"trash/{name}\")\n",
    "                print(e)"
   ]
  },
  {
   "cell_type": "code",
   "execution_count": 2,
   "metadata": {},
   "outputs": [],
   "source": [
    "import os, shutil\n",
    "for name in [\"db\", \"fastdup\", \"img\"]:\n",
    "    shutil.rmtree(f\"trash/{name}\")\n",
    "    os.mkdir(f\"trash/{name}\")"
   ]
  },
  {
   "cell_type": "code",
   "execution_count": 3,
   "metadata": {},
   "outputs": [
    {
     "data": {
      "text/plain": [
       "True"
      ]
     },
     "execution_count": 3,
     "metadata": {},
     "output_type": "execute_result"
    }
   ],
   "source": [
    "import os\n",
    "\n",
    "os.path.exists(\"trash/img/request_e07aaf8f_a587_42af_a0b3_0abd42a7ffc5/j_ls1tc3xd10u84x6l9e.a7d6e16a2e4ac1084d97ee3387ec7343e1bba938.file_ls282n8914l01u4ds6.[_].webp\")"
   ]
  }
 ],
 "metadata": {
  "kernelspec": {
   "display_name": ".venv",
   "language": "python",
   "name": "python3"
  },
  "language_info": {
   "codemirror_mode": {
    "name": "ipython",
    "version": 3
   },
   "file_extension": ".py",
   "mimetype": "text/x-python",
   "name": "python",
   "nbconvert_exporter": "python",
   "pygments_lexer": "ipython3",
   "version": "3.9.5"
  }
 },
 "nbformat": 4,
 "nbformat_minor": 2
}
